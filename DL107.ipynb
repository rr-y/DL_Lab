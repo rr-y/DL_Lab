{
  "nbformat": 4,
  "nbformat_minor": 0,
  "metadata": {
    "colab": {
      "name": "DL107.ipynb",
      "provenance": [],
      "authorship_tag": "ABX9TyPCgngSFGHHLt1QvlKRaJl5",
      "include_colab_link": true
    },
    "kernelspec": {
      "name": "python3",
      "display_name": "Python 3"
    },
    "accelerator": "GPU"
  },
  "cells": [
    {
      "cell_type": "markdown",
      "metadata": {
        "id": "view-in-github",
        "colab_type": "text"
      },
      "source": [
        "<a href=\"https://colab.research.google.com/github/rr-y/DL_Lab/blob/master/DL107.ipynb\" target=\"_parent\"><img src=\"https://colab.research.google.com/assets/colab-badge.svg\" alt=\"Open In Colab\"/></a>"
      ]
    },
    {
      "cell_type": "code",
      "metadata": {
        "id": "FrcSE6tyYa5T",
        "colab_type": "code",
        "colab": {}
      },
      "source": [
        "import torch"
      ],
      "execution_count": 0,
      "outputs": []
    },
    {
      "cell_type": "code",
      "metadata": {
        "id": "gZF8Oo7XYxHI",
        "colab_type": "code",
        "colab": {
          "base_uri": "https://localhost:8080/",
          "height": 108
        },
        "outputId": "9b574c36-4984-4cf1-b56b-b17e5421a742"
      },
      "source": [
        "%%time\n",
        "t = torch.zeros([3,3])\n",
        "print(t)"
      ],
      "execution_count": 7,
      "outputs": [
        {
          "output_type": "stream",
          "text": [
            "tensor([[0., 0., 0.],\n",
            "        [0., 0., 0.],\n",
            "        [0., 0., 0.]])\n",
            "CPU times: user 2.21 ms, sys: 2.81 ms, total: 5.02 ms\n",
            "Wall time: 156 ms\n"
          ],
          "name": "stdout"
        }
      ]
    },
    {
      "cell_type": "code",
      "metadata": {
        "id": "x4-ovi3aY8TO",
        "colab_type": "code",
        "colab": {
          "base_uri": "https://localhost:8080/",
          "height": 108
        },
        "outputId": "9db116f7-9e85-49a4-e7d0-665ef957b897"
      },
      "source": [
        "%%time\n",
        "t = torch.tensor([[1,2,3],[4,5,6],[7,8,9]])\n",
        "print(t)"
      ],
      "execution_count": 10,
      "outputs": [
        {
          "output_type": "stream",
          "text": [
            "tensor([[1, 2, 3],\n",
            "        [4, 5, 6],\n",
            "        [7, 8, 9]])\n",
            "CPU times: user 340 µs, sys: 896 µs, total: 1.24 ms\n",
            "Wall time: 6.82 ms\n"
          ],
          "name": "stdout"
        }
      ]
    },
    {
      "cell_type": "code",
      "metadata": {
        "id": "-JTD4yZiZWt7",
        "colab_type": "code",
        "colab": {
          "base_uri": "https://localhost:8080/",
          "height": 108
        },
        "outputId": "cc177c12-a8f6-46c1-f8f8-c34c3e4879a1"
      },
      "source": [
        "%%time \n",
        "t = torch.ones([3,4], requires_grad=True)\n",
        "print(t)"
      ],
      "execution_count": 11,
      "outputs": [
        {
          "output_type": "stream",
          "text": [
            "tensor([[1., 1., 1., 1.],\n",
            "        [1., 1., 1., 1.],\n",
            "        [1., 1., 1., 1.]], requires_grad=True)\n",
            "CPU times: user 4.02 ms, sys: 0 ns, total: 4.02 ms\n",
            "Wall time: 50.9 ms\n"
          ],
          "name": "stdout"
        }
      ]
    },
    {
      "cell_type": "code",
      "metadata": {
        "id": "A4iZ3DH3ZoSv",
        "colab_type": "code",
        "colab": {
          "base_uri": "https://localhost:8080/",
          "height": 35
        },
        "outputId": "8352834f-a427-4c1e-b376-0a43f2c8629c"
      },
      "source": [
        "%%time = torch.zeros_like([3,4], equires_grad=True)\n",
        "print(t)"
      ],
      "execution_count": 12,
      "outputs": [
        {
          "output_type": "stream",
          "text": [
            "UsageError: Can't use statement directly after '%%time'!\n"
          ],
          "name": "stderr"
        }
      ]
    },
    {
      "cell_type": "code",
      "metadata": {
        "id": "5oC6ZtQCZyDm",
        "colab_type": "code",
        "colab": {
          "base_uri": "https://localhost:8080/",
          "height": 272
        },
        "outputId": "38cae973-9fef-4cc3-f273-d9c63dc39c5e"
      },
      "source": [
        "%%time\n",
        "t = torch.linspace(1,5,100)\n",
        "print(t)"
      ],
      "execution_count": 14,
      "outputs": [
        {
          "output_type": "stream",
          "text": [
            "tensor([1.0000, 1.0404, 1.0808, 1.1212, 1.1616, 1.2020, 1.2424, 1.2828, 1.3232,\n",
            "        1.3636, 1.4040, 1.4444, 1.4848, 1.5253, 1.5657, 1.6061, 1.6465, 1.6869,\n",
            "        1.7273, 1.7677, 1.8081, 1.8485, 1.8889, 1.9293, 1.9697, 2.0101, 2.0505,\n",
            "        2.0909, 2.1313, 2.1717, 2.2121, 2.2525, 2.2929, 2.3333, 2.3737, 2.4141,\n",
            "        2.4545, 2.4949, 2.5354, 2.5758, 2.6162, 2.6566, 2.6970, 2.7374, 2.7778,\n",
            "        2.8182, 2.8586, 2.8990, 2.9394, 2.9798, 3.0202, 3.0606, 3.1010, 3.1414,\n",
            "        3.1818, 3.2222, 3.2626, 3.3030, 3.3434, 3.3838, 3.4242, 3.4646, 3.5051,\n",
            "        3.5455, 3.5859, 3.6263, 3.6667, 3.7071, 3.7475, 3.7879, 3.8283, 3.8687,\n",
            "        3.9091, 3.9495, 3.9899, 4.0303, 4.0707, 4.1111, 4.1515, 4.1919, 4.2323,\n",
            "        4.2727, 4.3131, 4.3535, 4.3939, 4.4343, 4.4747, 4.5152, 4.5556, 4.5960,\n",
            "        4.6364, 4.6768, 4.7172, 4.7576, 4.7980, 4.8384, 4.8788, 4.9192, 4.9596,\n",
            "        5.0000])\n",
            "CPU times: user 3.67 ms, sys: 81 µs, total: 3.75 ms\n",
            "Wall time: 6.06 ms\n"
          ],
          "name": "stdout"
        }
      ]
    },
    {
      "cell_type": "code",
      "metadata": {
        "id": "9sb-uTmFaB7S",
        "colab_type": "code",
        "colab": {
          "base_uri": "https://localhost:8080/",
          "height": 54
        },
        "outputId": "8c99d4fb-7d96-4002-d7b3-4306cb15307d"
      },
      "source": [
        "%%time\n",
        "t = torch.empty([3,4])"
      ],
      "execution_count": 15,
      "outputs": [
        {
          "output_type": "stream",
          "text": [
            "CPU times: user 447 µs, sys: 0 ns, total: 447 µs\n",
            "Wall time: 8.42 ms\n"
          ],
          "name": "stdout"
        }
      ]
    },
    {
      "cell_type": "code",
      "metadata": {
        "id": "TYVUj-fOaNgN",
        "colab_type": "code",
        "colab": {
          "base_uri": "https://localhost:8080/",
          "height": 35
        },
        "outputId": "3282b342-0244-4c64-a70a-34985f5ff937"
      },
      "source": [
        "# size calculation of tensors\n",
        "t = t.view(4,3)\n",
        "print(t.shape)"
      ],
      "execution_count": 21,
      "outputs": [
        {
          "output_type": "stream",
          "text": [
            "torch.Size([4, 3])\n"
          ],
          "name": "stdout"
        }
      ]
    },
    {
      "cell_type": "code",
      "metadata": {
        "id": "Y5orLw8Yacr2",
        "colab_type": "code",
        "colab": {
          "base_uri": "https://localhost:8080/",
          "height": 72
        },
        "outputId": "b1dea95b-69b4-461f-f333-317523861127"
      },
      "source": [
        "## lets try out some examples\n",
        "# here are some examples of autograd function\n",
        "x = torch.ones([3,3], requires_grad = True)\n",
        "y = 3*x+2\n",
        "z = y.mean()\n",
        "z.backward()\n",
        "print(x.grad)"
      ],
      "execution_count": 31,
      "outputs": [
        {
          "output_type": "stream",
          "text": [
            "tensor([[0.3333, 0.3333, 0.3333],\n",
            "        [0.3333, 0.3333, 0.3333],\n",
            "        [0.3333, 0.3333, 0.3333]])\n"
          ],
          "name": "stdout"
        }
      ]
    },
    {
      "cell_type": "code",
      "metadata": {
        "id": "huMlYhF2cG5j",
        "colab_type": "code",
        "colab": {
          "base_uri": "https://localhost:8080/",
          "height": 72
        },
        "outputId": "bf1f4db6-8928-4d39-9376-87c5ff1bb8d6"
      },
      "source": [
        "# differenciate y = 3*x*x+6*x+9\n",
        "\n",
        "x = torch.tensor([3], requires_grad=True, dtype=float)\n",
        "y = 3*x*x + 8*x+ 9\n",
        "print(\"Y : \",y)\n",
        "z = y.sum()\n",
        "print(\"Z : \",z)\n",
        "z.backward()\n",
        "print(x.grad)"
      ],
      "execution_count": 36,
      "outputs": [
        {
          "output_type": "stream",
          "text": [
            "Y :  tensor([60.], dtype=torch.float64, grad_fn=<AddBackward0>)\n",
            "Z :  tensor(60., dtype=torch.float64, grad_fn=<SumBackward0>)\n",
            "tensor([26.], dtype=torch.float64)\n"
          ],
          "name": "stdout"
        }
      ]
    },
    {
      "cell_type": "code",
      "metadata": {
        "id": "iMdehUMrev26",
        "colab_type": "code",
        "colab": {
          "base_uri": "https://localhost:8080/",
          "height": 35
        },
        "outputId": "e6a00f2b-ed42-4585-e9b4-2833bea2e41f"
      },
      "source": [
        "## lets predict the value\n",
        "## original equation--> y = 3*x+2\n",
        "w = torch.ones([1], requires_grad=True)\n",
        "b = torch.ones([1], requires_grad=True)\n",
        "for _ in range(50):\n",
        "  x = torch.randn([1], requires_grad = True)\n",
        "  y = 8*x+9\n",
        "  y_hat = w*x+b\n",
        "  loss = ((y_hat-y)**2).sum()\n",
        "  loss.backward()\n",
        "  with torch.no_grad():\n",
        "    w -= 0.1*w.grad\n",
        "    b -= 0.1*b.grad\n",
        "    w.grad.zero_()\n",
        "    b.grad.zero_()\n",
        "\n",
        "print(w.item(),b.item())"
      ],
      "execution_count": 56,
      "outputs": [
        {
          "output_type": "stream",
          "text": [
            "7.999116897583008 8.999595642089844\n"
          ],
          "name": "stdout"
        }
      ]
    },
    {
      "cell_type": "code",
      "metadata": {
        "id": "fIsWwxZ8iDNq",
        "colab_type": "code",
        "colab": {
          "base_uri": "https://localhost:8080/",
          "height": 145
        },
        "outputId": "13a7ac97-1d46-4212-8e24-451db32bc3fd"
      },
      "source": [
        "## lets have a look of argmax\n",
        "t = torch.randn([3,4])\n",
        "print(t)\n",
        "print(t.argmax(dim=1))\n",
        "print(t.sum(dim=-1).unsqueeze(1))\n"
      ],
      "execution_count": 63,
      "outputs": [
        {
          "output_type": "stream",
          "text": [
            "tensor([[-1.1075, -0.3489, -0.5154,  0.0569],\n",
            "        [-0.3059, -0.1655, -0.3471,  0.3812],\n",
            "        [ 0.4464,  1.4413,  0.6538, -0.3663]])\n",
            "tensor([3, 3, 1])\n",
            "tensor([[-1.9148],\n",
            "        [-0.4373],\n",
            "        [ 2.1751]])\n"
          ],
          "name": "stdout"
        }
      ]
    },
    {
      "cell_type": "code",
      "metadata": {
        "id": "zM8ReaHPpZAW",
        "colab_type": "code",
        "colab": {}
      },
      "source": [
        ""
      ],
      "execution_count": 0,
      "outputs": []
    }
  ]
}